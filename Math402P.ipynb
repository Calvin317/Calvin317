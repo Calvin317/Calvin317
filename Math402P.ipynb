{
  "nbformat": 4,
  "nbformat_minor": 0,
  "metadata": {
    "colab": {
      "provenance": [],
      "authorship_tag": "ABX9TyNf0pP0r6/MAL9SB29PvKA5",
      "include_colab_link": true
    },
    "kernelspec": {
      "name": "python3",
      "display_name": "Python 3"
    },
    "language_info": {
      "name": "python"
    }
  },
  "cells": [
    {
      "cell_type": "markdown",
      "metadata": {
        "id": "view-in-github",
        "colab_type": "text"
      },
      "source": [
        "<a href=\"https://colab.research.google.com/github/Calvin317/Calvin317/blob/main/Math402P.ipynb\" target=\"_parent\"><img src=\"https://colab.research.google.com/assets/colab-badge.svg\" alt=\"Open In Colab\"/></a>"
      ]
    },
    {
      "cell_type": "code",
      "execution_count": 1,
      "metadata": {
        "id": "mDUlWJuovu7F"
      },
      "outputs": [],
      "source": [
        "import numpy as np\n",
        "import pandas as pd\n",
        "import matplotlib.pyplot as plt\n",
        "import seaborn as sns"
      ]
    },
    {
      "cell_type": "code",
      "source": [
        "v = np.array([2,-1])\n",
        "plt.plot([0,v[0]],[0,v[1]])\n",
        "plt.axis([-3,3,-3,3])\n",
        "plt.grid()"
      ],
      "metadata": {
        "colab": {
          "base_uri": "https://localhost:8080/",
          "height": 435
        },
        "id": "m1i7_J7DxNgk",
        "outputId": "62f02a93-568e-469f-db71-30cb7c3d2792"
      },
      "execution_count": 4,
      "outputs": [
        {
          "output_type": "display_data",
          "data": {
            "text/plain": [
              "<Figure size 640x480 with 1 Axes>"
            ],
            "image/png": "[encoded data removed]"
          },
          "metadata": {}
        }
      ]
    },
    {
      "cell_type": "code",
      "source": [
        "v1 = [2,5,4,7]\n",
        "v2 = np.array([2,5,4,7])\n",
        "v3 = np.array([[2],[5],[4],[7]]) # col\n",
        "v4 = np.array([[2,5,4,7]]) # row"
      ],
      "metadata": {
        "id": "QEkcI_e60vxe"
      },
      "execution_count": 5,
      "outputs": []
    },
    {
      "cell_type": "code",
      "source": [
        "v1"
      ],
      "metadata": {
        "colab": {
          "base_uri": "https://localhost:8080/"
        },
        "id": "_Rdm6up35Y5_",
        "outputId": "f1eae0ea-7f38-43e6-ab78-633ad9655748"
      },
      "execution_count": 6,
      "outputs": [
        {
          "output_type": "execute_result",
          "data": {
            "text/plain": [
              "[2, 5, 4, 7]"
            ]
          },
          "metadata": {},
          "execution_count": 6
        }
      ]
    },
    {
      "cell_type": "code",
      "source": [
        "v3"
      ],
      "metadata": {
        "colab": {
          "base_uri": "https://localhost:8080/"
        },
        "id": "z0Rny-eZ5kr1",
        "outputId": "0c5705b0-2301-462b-ec39-494ad28701d6"
      },
      "execution_count": 7,
      "outputs": [
        {
          "output_type": "execute_result",
          "data": {
            "text/plain": [
              "array([[2],\n",
              "       [5],\n",
              "       [4],\n",
              "       [7]])"
            ]
          },
          "metadata": {},
          "execution_count": 7
        }
      ]
    },
    {
      "cell_type": "code",
      "source": [
        "v4"
      ],
      "metadata": {
        "colab": {
          "base_uri": "https://localhost:8080/"
        },
        "id": "MfwTUMp27K8b",
        "outputId": "d7614f98-8148-4378-ae4e-1c0f97f854e3"
      },
      "execution_count": 9,
      "outputs": [
        {
          "output_type": "execute_result",
          "data": {
            "text/plain": [
              "array([[2, 5, 4, 7]])"
            ]
          },
          "metadata": {},
          "execution_count": 9
        }
      ]
    },
    {
      "cell_type": "code",
      "source": [
        "# Example of a row vector\n",
        "from numpy import array\n",
        "v = array([1, 2, 3, 1])\n",
        "print(v)"
      ],
      "metadata": {
        "colab": {
          "base_uri": "https://localhost:8080/"
        },
        "id": "m757s1y49Dpr",
        "outputId": "7bb8b8d3-80a1-4316-91fe-4700dff72db2"
      },
      "execution_count": 10,
      "outputs": [
        {
          "output_type": "stream",
          "name": "stdout",
          "text": [
            "[1 2 3 1]\n"
          ]
        }
      ]
    },
    {
      "cell_type": "code",
      "source": [
        "# Example of a column vector\n",
        "from numpy import array\n",
        "v5 = array([[1], [2], [3], [1]])\n",
        "print(v5)"
      ],
      "metadata": {
        "colab": {
          "base_uri": "https://localhost:8080/"
        },
        "id": "n71cuYzk9fNk",
        "outputId": "5a9b26e4-00fa-4646-e1da-f21081c5c688"
      },
      "execution_count": 11,
      "outputs": [
        {
          "output_type": "stream",
          "name": "stdout",
          "text": [
            "[[1]\n",
            " [2]\n",
            " [3]\n",
            " [1]]\n"
          ]
        }
      ]
    },
    {
      "cell_type": "code",
      "source": [
        "# Matrix Transpose\n",
        "from numpy import array\n",
        "A = array([[1, 2], [3, 4], [5, 6]])\n",
        "print(A)"
      ],
      "metadata": {
        "colab": {
          "base_uri": "https://localhost:8080/"
        },
        "id": "vcO4ITlMIMCV",
        "outputId": "1c258a14-19ac-4252-9bf7-813e32571563"
      },
      "execution_count": 12,
      "outputs": [
        {
          "output_type": "stream",
          "name": "stdout",
          "text": [
            "[[1 2]\n",
            " [3 4]\n",
            " [5 6]]\n"
          ]
        }
      ]
    },
    {
      "cell_type": "code",
      "source": [
        "a1 = A.T\n",
        "a1"
      ],
      "metadata": {
        "colab": {
          "base_uri": "https://localhost:8080/"
        },
        "id": "MdvHQyvTIikK",
        "outputId": "10b41d56-6e6b-482e-b4d3-953e52f2b11e"
      },
      "execution_count": 13,
      "outputs": [
        {
          "output_type": "execute_result",
          "data": {
            "text/plain": [
              "array([[1, 3, 5],\n",
              "       [2, 4, 6]])"
            ]
          },
          "metadata": {},
          "execution_count": 13
        }
      ]
    },
    {
      "cell_type": "code",
      "source": [
        "A + A"
      ],
      "metadata": {
        "colab": {
          "base_uri": "https://localhost:8080/"
        },
        "id": "n39nv_APKEJz",
        "outputId": "9920bb83-8c3c-4273-85e4-744d3d2cec2d"
      },
      "execution_count": 16,
      "outputs": [
        {
          "output_type": "execute_result",
          "data": {
            "text/plain": [
              "array([[ 2,  4],\n",
              "       [ 6,  8],\n",
              "       [10, 12]])"
            ]
          },
          "metadata": {},
          "execution_count": 16
        }
      ]
    },
    {
      "cell_type": "code",
      "source": [
        "v6 = array([[0],[12]])\n",
        "v7 = array([[-2],[-4]])\n",
        "v6"
      ],
      "metadata": {
        "colab": {
          "base_uri": "https://localhost:8080/"
        },
        "id": "k9qofzTPLHBS",
        "outputId": "b0177f74-1a25-403a-92da-21064b4a2a8e"
      },
      "execution_count": 17,
      "outputs": [
        {
          "output_type": "execute_result",
          "data": {
            "text/plain": [
              "array([[ 0],\n",
              "       [12]])"
            ]
          },
          "metadata": {},
          "execution_count": 17
        }
      ]
    },
    {
      "cell_type": "code",
      "source": [
        "v8 = v6 + v7\n",
        "v8"
      ],
      "metadata": {
        "colab": {
          "base_uri": "https://localhost:8080/"
        },
        "id": "eUrJBxmPLnwB",
        "outputId": "3ba48351-ec84-491b-8996-daa59e4aaae6"
      },
      "execution_count": 18,
      "outputs": [
        {
          "output_type": "execute_result",
          "data": {
            "text/plain": [
              "array([[-2],\n",
              "       [ 8]])"
            ]
          },
          "metadata": {},
          "execution_count": 18
        }
      ]
    },
    {
      "cell_type": "code",
      "source": [
        "from numpy import array\n",
        "v9 = array([1.2])\n",
        "v10 = array([1.5])\n",
        "v11 = v9 + v10\n",
        "v11"
      ],
      "metadata": {
        "colab": {
          "base_uri": "https://localhost:8080/"
        },
        "id": "Xn6dAGxNL5mo",
        "outputId": "1419ebd6-f629-4ddb-90aa-83adf15f3921"
      },
      "execution_count": 21,
      "outputs": [
        {
          "output_type": "execute_result",
          "data": {
            "text/plain": [
              "array([2.7])"
            ]
          },
          "metadata": {},
          "execution_count": 21
        }
      ]
    },
    {
      "cell_type": "code",
      "source": [
        "# Find 4v1 - 2v2\n",
        "v1 = np.array([3,5,4,7])\n",
        "v2 = np.array([4,1,0,1])\n",
        "v3 = 4*v1 - 2*v2\n",
        "v3"
      ],
      "metadata": {
        "colab": {
          "base_uri": "https://localhost:8080/"
        },
        "id": "E7ppIsHPPMIW",
        "outputId": "1a008b48-0268-4d77-8bbc-be2fa73d4530"
      },
      "execution_count": 22,
      "outputs": [
        {
          "output_type": "execute_result",
          "data": {
            "text/plain": [
              "array([ 4, 18, 16, 24])"
            ]
          },
          "metadata": {},
          "execution_count": 22
        }
      ]
    },
    {
      "cell_type": "markdown",
      "source": [
        "**Practice problems**  Compute scalar-vector multiplication for the following pairs:\n",
        "\n",
        "a. $-2\\begin{bmatrix} 4 & 3 & 0\\end{bmatrix}$.  $\\hspace{0.2cm}$ b. $(-9+2 \\times 5) \\begin{bmatrix} 0 \\\\ 4 \\\\ 3\\end{bmatrix}$"
      ],
      "metadata": {
        "id": "0I9Xxo8ZW1n8"
      }
    },
    {
      "cell_type": "markdown",
      "source": [
        "**Practice problems**  Compute scalar-vector multiplication for the following pairs:\n",
        "\n",
        "a. $-2\\begin{bmatrix} 4 & 3 & 0\\end{bmatrix}$.  $\\hspace{0.5cm}$ b. $(-9+2 \\times 5) \\begin{bmatrix} 0 \\\\ 4 \\\\ 3\\end{bmatrix}$ $\\hspace{0.5cm}$ c. $λ \\begin{bmatrix} 0 \\\\ 3 \\\\ 1 \\\\ 11 \\end{bmatrix}$ $\\hspace{0.5cm}$"
      ],
      "metadata": {
        "id": "EQh3Lp8DZOLt"
      }
    }
  ]
}